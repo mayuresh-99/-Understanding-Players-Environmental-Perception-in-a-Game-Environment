{
 "cells": [
  {
   "cell_type": "code",
   "execution_count": null,
   "metadata": {},
   "outputs": [],
   "source": [
    "import pandas as pd \n",
    "import matplotlib.pyplot as plt\n",
    "import seaborn as sns\n",
    "import plotly.express as px\n",
    "from sklearn.preprocessing import LabelEncoder"
   ]
  },
  {
   "cell_type": "markdown",
   "metadata": {},
   "source": [
    "### Data Preprocessing"
   ]
  },
  {
   "cell_type": "code",
   "execution_count": null,
   "metadata": {},
   "outputs": [],
   "source": [
    "data =pd.read_csv('data_640_validated.csv', encoding='latin-1')\n",
    "data"
   ]
  },
  {
   "cell_type": "code",
   "execution_count": null,
   "metadata": {},
   "outputs": [],
   "source": [
    "#Inaccurate or invalide data\n",
    "replace_dict={'30s':'30','sub 28':'28'}\n",
    "data['A5 (Age)']=data['A5 (Age)'].replace(replace_dict)"
   ]
  },
  {
   "cell_type": "code",
   "execution_count": null,
   "metadata": {},
   "outputs": [],
   "source": [
    "#Incorrect Data Type\n",
    "data['A5 (Age)']=data['A5 (Age)'].astype('int64')"
   ]
  },
  {
   "cell_type": "code",
   "execution_count": null,
   "metadata": {},
   "outputs": [],
   "source": [
    "#Renaming the column Name\n",
    "new_column_name= {'Unnamed: 0':'ID','ï..O1':'Nationality'}\n",
    "data.rename(columns=new_column_name,inplace=True)"
   ]
  },
  {
   "cell_type": "markdown",
   "metadata": {},
   "source": [
    "### Age Distribution EDA"
   ]
  },
  {
   "cell_type": "code",
   "execution_count": null,
   "metadata": {},
   "outputs": [],
   "source": [
    "#Age Distribution with Pie chart\n",
    "bins=[11,18,30,40,50,60]\n",
    "data['AgeCategory']=pd.cut(data['A5 (Age)'],bins=bins,labels=['11-18','19-30','31-40','41-50','51-60'])\n",
    "age_distribution=data['AgeCategory'].value_counts()\n",
    "plt.pie(age_distribution,labels=age_distribution.index,autopct='%1.1f%%',startangle=180)\n",
    "plt.title('Age Distributions of Players')\n",
    "plt.show()"
   ]
  },
  {
   "cell_type": "markdown",
   "metadata": {},
   "source": [
    "### Sex and Environmental Perception"
   ]
  },
  {
   "cell_type": "code",
   "execution_count": null,
   "metadata": {},
   "outputs": [],
   "source": [
    "columns_to_add=['A1_1','A1_2','A2 (Sex)','A3','A4','A5 (Age)','A6','A7','A8','C1','C2','C3','C4','C5','C6','C7','C8','C9','C10','C11','C12','C13','C14','C15']\n",
    "new_df= data[columns_to_add].copy()\n",
    "new_df"
   ]
  },
  {
   "cell_type": "markdown",
   "metadata": {},
   "source": [
    "### Identify the most important socio demographic relationship with Environmental Perception"
   ]
  },
  {
   "cell_type": "code",
   "execution_count": null,
   "metadata": {},
   "outputs": [],
   "source": [
    "median=new_df[['C1','C2','C3','C4','C5','C6','C7','C8','C9','C10','C11','C12','C13','C14','C15']].median(axis=1)\n",
    "new_df['T_Avg']=median\n",
    "new_df"
   ]
  },
  {
   "cell_type": "code",
   "execution_count": null,
   "metadata": {},
   "outputs": [],
   "source": [
    "label_encoder=LabelEncoder()\n",
    "new_df['A1_2']=label_encoder.fit_transform(new_df['A1_2'])\n",
    "new_df['A2 (Sex)'] =label_encoder.fit_transform(new_df['A2 (Sex)'])\n",
    "new_df['A3'] = label_encoder.fit_transform(new_df['A3'])\n",
    "new_df['A4']=label_encoder.fit_transform(new_df['A4'])\n",
    "new_df['A6']=label_encoder.fit_transform(new_df['A6'])\n",
    "new_df['A7']=label_encoder.fit_transform(new_df['A7'])\n",
    "new_df['A8']=label_encoder.fit_transform(new_df['A8'])\n"
   ]
  },
  {
   "cell_type": "code",
   "execution_count": null,
   "metadata": {},
   "outputs": [],
   "source": [
    "X=new_df[['A1_2','A2 (Sex)','A3','A4','A5 (Age)','A6','A7','A8']]\n",
    "Y= new_df['T_Avg']"
   ]
  },
  {
   "cell_type": "code",
   "execution_count": null,
   "metadata": {},
   "outputs": [],
   "source": [
    "from sklearn.feature_selection import SelectKBest\n",
    "from sklearn.feature_selection import f_classif,chi2\n",
    "\n",
    "chi2_features = SelectKBest(chi2, k = 'all') \n",
    "X_kbest_features = chi2_features.fit_transform(X, Y)\n",
    "\n",
    "chi2_scores = chi2_features.scores_\n",
    "\n",
    "for i in range (len(chi2_scores)):\n",
    "    print('Feature %d: %f' %(i,chi2_scores[i]))\n",
    "\n",
    "plt.bar([i for i in range (len(chi2_scores))],chi2_scores,color='green')\n",
    "plt.xticks([0,1,2,3,4,5,6,7], X.columns)\n",
    "plt.xlabel('Socio-Demographic Variable')\n",
    "plt.ylabel('Chi-Square Scores')\n",
    "plt.show()"
   ]
  },
  {
   "cell_type": "markdown",
   "metadata": {},
   "source": [
    "### Human Centered Environmental Perception for Gender"
   ]
  },
  {
   "cell_type": "code",
   "execution_count": null,
   "metadata": {},
   "outputs": [],
   "source": [
    "c=data[['A2 (Sex)','C2','C4','C6','C8','C10','C12','C14']]\n",
    "group_sex= c.groupby(by='A2 (Sex)').mean()\n",
    "a=group_sex[['C2','C4','C6','C8','C10','C12','C14']].mean(axis=1)\n",
    "mean_human= pd.DataFrame({'Sex':a.index,'Mean':a.values})\n",
    "mean_human\n"
   ]
  },
  {
   "cell_type": "code",
   "execution_count": null,
   "metadata": {},
   "outputs": [],
   "source": [
    "fig= px.bar(mean_human,x='Sex',y='Mean',text_auto=True,title='Environmental Perception for Gender with Human Centeredness')\n",
    "fig.update_layout(yaxis_title='Mean',bargap=0.8)\n",
    "fig.show()"
   ]
  },
  {
   "cell_type": "markdown",
   "metadata": {},
   "source": [
    "### Non human Centered Environmental Perception for Gender"
   ]
  },
  {
   "cell_type": "code",
   "execution_count": null,
   "metadata": {},
   "outputs": [],
   "source": [
    "c=data[['A2 (Sex)','C1','C3','C5','C7','C9','C10','C11','C13','C15']]\n",
    "group_sex= c.groupby(by='A2 (Sex)').mean()\n",
    "a=group_sex[['C1','C3','C5','C7','C9','C10','C11','C13','C15']].mean(axis=1)\n",
    "mean_non_human= pd.DataFrame({'Sex':a.index,'Mean':a.values})\n",
    "mean_non_human"
   ]
  },
  {
   "cell_type": "code",
   "execution_count": null,
   "metadata": {},
   "outputs": [],
   "source": [
    "fig= px.bar(mean_non_human,x=mean_non_human['Sex'],y=mean_non_human['Mean'],text_auto=True,title='Environmental Perception for Gender with Non Human Centeredness')\n",
    "fig.update_layout(yaxis_title='Mean',bargap=0.8)\n",
    "fig.show()"
   ]
  },
  {
   "cell_type": "markdown",
   "metadata": {},
   "source": [
    "### Frequency of gender cutting down the tree"
   ]
  },
  {
   "cell_type": "code",
   "execution_count": null,
   "metadata": {},
   "outputs": [],
   "source": [
    "columns_for_trees=['A2 (Sex)','E17']\n",
    "data_1= data[columns_for_trees].copy()\n",
    "data_1"
   ]
  },
  {
   "cell_type": "code",
   "execution_count": null,
   "metadata": {},
   "outputs": [],
   "source": [
    "male_df = data_1[(data_1['A2 (Sex)'] == 'Male')]\n",
    "grouped_df = male_df.groupby('E17').size().reset_index(name='Count')\n",
    "\n",
    "plt.figure(figsize=(8, 8))\n",
    "plt.pie(grouped_df['Count'], labels=grouped_df['E17'], autopct='%1.1f%%', startangle=140)\n",
    "plt.title('Distribution of E17 Values for Males')\n",
    "plt.show()"
   ]
  },
  {
   "cell_type": "code",
   "execution_count": null,
   "metadata": {},
   "outputs": [],
   "source": [
    "female_df = data_1[(data_1['A2 (Sex)'] == 'Female')]\n",
    "grouped_df = female_df.groupby('E17').size().reset_index(name='Count')\n",
    "plt.figure(figsize=(8, 8))\n",
    "plt.pie(grouped_df['Count'], labels=grouped_df['E17'], autopct='%1.1f%%', startangle=140)\n",
    "plt.title('Distribution of E17 Values for Female')\n",
    "plt.show()"
   ]
  },
  {
   "cell_type": "code",
   "execution_count": null,
   "metadata": {},
   "outputs": [],
   "source": [
    "gender_counts = data['A2 (Sex)'].value_counts()\n",
    "gender_counts"
   ]
  },
  {
   "cell_type": "code",
   "execution_count": null,
   "metadata": {},
   "outputs": [],
   "source": [
    "sns.countplot(x=data['E17'], hue=data['A2 (Sex)'],data=data)\n",
    "plt.show()"
   ]
  },
  {
   "cell_type": "markdown",
   "metadata": {},
   "source": [
    "### Label Encoding for new_df dataframe"
   ]
  },
  {
   "cell_type": "code",
   "execution_count": null,
   "metadata": {},
   "outputs": [],
   "source": [
    "#Label Encoding\n",
    "label_encoder=LabelEncoder()\n",
    "new_df['A1_1']=label_encoder.fit_transform(new_df['A1_1'])\n",
    "new_df['A1_2']=label_encoder.fit_transform(new_df['A1_2'])\n",
    "new_df['A2 (Sex)'] =label_encoder.fit_transform(new_df['A2 (Sex)'])\n",
    "new_df['A3'] = label_encoder.fit_transform(new_df['A3'])\n",
    "new_df['A4']=label_encoder.fit_transform(new_df['A4'])\n",
    "new_df['A6']=label_encoder.fit_transform(new_df['A6'])\n",
    "new_df['A7']=label_encoder.fit_transform(new_df['A7'])\n",
    "new_df['A8']=label_encoder.fit_transform(new_df['A8'])\n",
    "new_df.head()"
   ]
  },
  {
   "cell_type": "markdown",
   "metadata": {},
   "source": [
    "### Correlation Matrix"
   ]
  },
  {
   "cell_type": "code",
   "execution_count": null,
   "metadata": {},
   "outputs": [],
   "source": [
    "a= new_df.corr()\n",
    "plt.figure(figsize=(15,6))\n",
    "sns.heatmap(a,fmt='.2f',annot=True)\n",
    "plt.show()"
   ]
  },
  {
   "cell_type": "markdown",
   "metadata": {},
   "source": [
    "#### Human-centered data "
   ]
  },
  {
   "cell_type": "code",
   "execution_count": null,
   "metadata": {},
   "outputs": [],
   "source": [
    "#Human centered dataframe\n",
    "new_df_human= new_df[['A1_1','A1_2','A2 (Sex)','A3','A4','A5 (Age)','A6','A7','A8','C2','C4','C6','C8','C10','C12','C14']]\n",
    "new_df_human"
   ]
  },
  {
   "cell_type": "code",
   "execution_count": null,
   "metadata": {},
   "outputs": [],
   "source": [
    "column_human=['C2','C4','C6','C8','C10','C12','C14']\n",
    "row_means=new_df_human[column_human].median(axis=1)\n",
    "new_df_human['mean_human']= row_means\n",
    "new_df_human"
   ]
  },
  {
   "cell_type": "markdown",
   "metadata": {},
   "source": [
    "### Non Human Centeredness"
   ]
  },
  {
   "cell_type": "code",
   "execution_count": null,
   "metadata": {},
   "outputs": [],
   "source": [
    "new_df_non_human=new_df[['A1_1','A1_2','A2 (Sex)','A3','A4','A5 (Age)','A6','A7','A8','C1','C3','C5','C7','C9','C11','C13','C15']]\n",
    "new_df_non_human"
   ]
  },
  {
   "cell_type": "code",
   "execution_count": null,
   "metadata": {},
   "outputs": [],
   "source": [
    "column_non_human=['C1','C3','C5','C7','C9','C11','C13','C15']\n",
    "row_means=new_df_non_human[column_non_human].median(axis=1)\n",
    "new_df_non_human['mean_non_human']= row_means\n",
    "new_df_non_human"
   ]
  },
  {
   "cell_type": "code",
   "execution_count": null,
   "metadata": {},
   "outputs": [],
   "source": [
    "selected_columns_df1 = new_df[['A1_1','A1_2','A2 (Sex)','A3','A4','A5 (Age)','A6','A7','A8']]\n",
    "selected_columns_df2 = new_df_human[['mean_human']]\n",
    "selected_columns_df3= new_df_non_human[['mean_non_human']]\n",
    "final_df= pd.concat([selected_columns_df1,selected_columns_df2,selected_columns_df3],axis=1)\n",
    "final_df"
   ]
  },
  {
   "cell_type": "code",
   "execution_count": null,
   "metadata": {},
   "outputs": [],
   "source": [
    "final_df['t_mean']= final_df[['mean_human','mean_non_human']].mean(axis=1)\n",
    "final_df"
   ]
  },
  {
   "cell_type": "code",
   "execution_count": null,
   "metadata": {},
   "outputs": [],
   "source": [
    "m=[]\n",
    "for i,rows in final_df.iterrows():\n",
    "    if(rows['t_mean']<=3):\n",
    "        m.append('-1')\n",
    "    if(rows['t_mean']>3):\n",
    "        m.append('+1')\n",
    "final_df['encode']=m\n",
    "\n",
    "final_df['encode'].value_counts()\n",
    "\n"
   ]
  },
  {
   "cell_type": "markdown",
   "metadata": {},
   "source": [
    "### Model Selection"
   ]
  },
  {
   "cell_type": "code",
   "execution_count": null,
   "metadata": {},
   "outputs": [],
   "source": [
    "import numpy as np\n",
    "from sklearn.model_selection import cross_val_score, train_test_split\n",
    "from sklearn.naive_bayes import GaussianNB, MultinomialNB, BernoulliNB\n",
    "from sklearn.datasets import make_classification\n",
    "\n",
    "# Assuming you have X and y loaded\n",
    "# For simplicity, creating a synthetic dataset\n",
    "X=final_df[['A1_2','A2 (Sex)','A3','A4','A5 (Age)','A6','A7','A8']]\n",
    "y= final_df[['encode']]\n",
    "\n",
    "# Split the data into training and testing sets\n",
    "X_train, X_temp, y_train, y_temp = train_test_split(X, y, test_size=0.3, random_state=42)\n",
    "X_test, X_eval, y_test, y_eval = train_test_split(X_temp, y_temp, test_size=0.5, random_state=42)\n",
    "\n",
    "# Create instances of different Naive Bayes models\n",
    "models = {\n",
    "    'Gaussian Naive Bayes': GaussianNB(),    \n",
    "     'Multinomial Naive Bayes': MultinomialNB(),\n",
    "    'Bernoulli Naive Bayes': BernoulliNB()\n",
    "}\n",
    "\n",
    "# Evaluate models using cross-validation\n",
    "for model_name, model in models.items():\n",
    "    cv_scores = cross_val_score(model, X_train, y_train, cv=10, scoring='accuracy')\n",
    "    print(f\"{model_name} - Cross-Validation Scores: {cv_scores}, Mean Accuracy: {np.mean(cv_scores)}\")\n",
    "\n",
    "# Select the model with the highest mean accuracy\n",
    "best_model_name = max(models, key=lambda k: np.mean(cross_val_score(models[k], X_train, y_train, cv=5, scoring='accuracy')))\n",
    "best_model = models[best_model_name]\n",
    "\n",
    "# Train the selected model on the entire training set\n",
    "best_model.fit(X_train, y_train)\n",
    "\n",
    "# Evaluate the selected model on the test set\n",
    "test_accuracy = best_model.score(X_test, y_test)\n",
    "print(f\"Test Accuracy of the Best Model ({best_model_name}): {test_accuracy}\")"
   ]
  },
  {
   "cell_type": "markdown",
   "metadata": {},
   "source": [
    "### Model Evaluation"
   ]
  },
  {
   "cell_type": "code",
   "execution_count": null,
   "metadata": {},
   "outputs": [],
   "source": [
    "from sklearn.metrics import classification_report\n",
    "\n",
    "# Assuming you have X_test and y_test\n",
    "\n",
    "# Evaluate the selected model on the test set\n",
    "y_pred = best_model.predict(X_test)\n",
    "\n",
    "# Generate the classification report\n",
    "report = classification_report(y_test, y_pred)\n",
    "\n",
    "# Print the classification report\n",
    "print(\"Classification Report:\")\n",
    "print(report)"
   ]
  }
 ],
 "metadata": {
  "kernelspec": {
   "display_name": "Python 3",
   "language": "python",
   "name": "python3"
  },
  "language_info": {
   "codemirror_mode": {
    "name": "ipython",
    "version": 3
   },
   "file_extension": ".py",
   "mimetype": "text/x-python",
   "name": "python",
   "nbconvert_exporter": "python",
   "pygments_lexer": "ipython3",
   "version": "3.12.0"
  }
 },
 "nbformat": 4,
 "nbformat_minor": 2
}
